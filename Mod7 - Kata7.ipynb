{
 "cells": [
  {
   "cell_type": "markdown",
   "metadata": {},
   "source": [
    "# Kata 7 - Módulo 7 - Estructuras de control"
   ]
  },
  {
   "cell_type": "markdown",
   "metadata": {},
   "source": [
    "### Ejercicio 1\n",
    "Creación de un bucle \"while\""
   ]
  },
  {
   "cell_type": "code",
   "execution_count": 23,
   "metadata": {},
   "outputs": [],
   "source": [
    "# Declara dos variables para la entrada de datos y el almacen de datos\n",
    "new_planet=\"\"\n",
    "planets=[]"
   ]
  },
  {
   "cell_type": "code",
   "execution_count": 24,
   "metadata": {},
   "outputs": [
    {
     "name": "stdout",
     "output_type": "stream",
     "text": [
      "¡Listo! \n",
      "Los planetas han sido registrados correctamente\n"
     ]
    }
   ],
   "source": [
    "#Crear el ciclo while donde 1. Se ejecutará el ciclo hasta que el usuario escriba \"done\", 2. Se validará que el usuario ha escrito un valor para añadirlo a la lista, 3. Se solicitará la entrada al usuario\n",
    "while new_planet != \"done\":\n",
    "    if(new_planet):\n",
    "        planets.append(new_planet)\n",
    "    new_planet= input(\"Ingresa el nombre del planeta que deseas añadir, cuando hayas terminado de ingresar todos los que deseas escribe 'done'\")\n",
    "print(f\"¡Listo! \\nLos planetas han sido registrados correctamente\")\n"
   ]
  },
  {
   "cell_type": "markdown",
   "metadata": {},
   "source": [
    "### Ejercicio 2\n",
    "Creación de un ciclo \"for\""
   ]
  },
  {
   "cell_type": "code",
   "execution_count": 25,
   "metadata": {},
   "outputs": [
    {
     "name": "stdout",
     "output_type": "stream",
     "text": [
      "Estos son:\n",
      "\n",
      "mercurio\n",
      "neptuno\n",
      "saturno\n",
      "tierra\n"
     ]
    }
   ],
   "source": [
    "# Escribe tu ciclo for para iterar en la lista de planetas y mostrarlos en consola\n",
    "print(\"Estos son:\\n\")\n",
    "for planeta in planets:\n",
    "    print(planeta)\n"
   ]
  }
 ],
 "metadata": {
  "interpreter": {
   "hash": "b5df1c682c66722ea795f02e3956cc1f195e725c496f4e7ec2d5e297f7916451"
  },
  "kernelspec": {
   "display_name": "Python 3.8.10 64-bit (windows store)",
   "language": "python",
   "name": "python3"
  },
  "language_info": {
   "codemirror_mode": {
    "name": "ipython",
    "version": 3
   },
   "file_extension": ".py",
   "mimetype": "text/x-python",
   "name": "python",
   "nbconvert_exporter": "python",
   "pygments_lexer": "ipython3",
   "version": "3.8.10"
  },
  "orig_nbformat": 4
 },
 "nbformat": 4,
 "nbformat_minor": 2
}
