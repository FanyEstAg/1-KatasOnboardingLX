{
 "cells": [
  {
   "cell_type": "markdown",
   "metadata": {},
   "source": [
    "# Kata 3 - Módulo 3 - Usar Lógica Booleana"
   ]
  },
  {
   "cell_type": "markdown",
   "metadata": {},
   "source": [
    "##  Declaraciones if, else, y elif"
   ]
  },
  {
   "cell_type": "markdown",
   "metadata": {},
   "source": [
    "### Ejercicio 1"
   ]
  },
  {
   "cell_type": "code",
   "execution_count": 8,
   "metadata": {},
   "outputs": [],
   "source": [
    "# Añadir el código necesario para crear una variable que guarde la velocidad del asteroide.\n",
    "velAsteroideCercano= 49"
   ]
  },
  {
   "cell_type": "code",
   "execution_count": 9,
   "metadata": {},
   "outputs": [],
   "source": [
    "# Escribe una expresión de prueba para calcular si necesita una advertencia.\n",
    "Advertencia= velAsteroideCercano>25"
   ]
  },
  {
   "cell_type": "code",
   "execution_count": 10,
   "metadata": {},
   "outputs": [
    {
     "name": "stdout",
     "output_type": "stream",
     "text": [
      "¡ADVERTENCIA! \n",
      " Un asteroide sobrepasa el límite de velocidad permitido\n"
     ]
    }
   ],
   "source": [
    "# Agregue las instrucciones que se ejecutarán si la expresión de prueba es true o false.\n",
    "if Advertencia==True:\n",
    "    print(\"¡ADVERTENCIA! \\n Un asteroide sobrepasa el límite de velocidad permitido\")\n",
    "else:\n",
    "    print(\"Aquí no ha pasado nada :)\")"
   ]
  },
  {
   "cell_type": "code",
   "execution_count": 11,
   "metadata": {},
   "outputs": [],
   "source": [
    "# Agrega el código para crear una variable para un asteroide que viaja a 19 km/s\n",
    "velAsteroideCercano=19"
   ]
  },
  {
   "cell_type": "code",
   "execution_count": 12,
   "metadata": {},
   "outputs": [],
   "source": [
    "# Escribe varias expresiones de prueba para determinar si puedes ver el rayo de luz desde la tierra\n",
    "verRayoDeLuz= velAsteroideCercano>= 20"
   ]
  },
  {
   "cell_type": "code",
   "execution_count": 13,
   "metadata": {},
   "outputs": [
    {
     "name": "stdout",
     "output_type": "stream",
     "text": [
      "No hay nada que ver :(\n"
     ]
    }
   ],
   "source": [
    "# Agregue las instrucciones que se ejecutarán si la expresión de prueba es true o false.\n",
    "#If y else\n",
    "if verRayoDeLuz==True:\n",
    "    print(\"¡ATENCIÓN! \\n Hay un asteroide que se dirige a la tierra ahora a una velocidad de\"+ velAsteroideCercano)\n",
    "else:\n",
    "    print(\"No hay nada que ver :(\")\n"
   ]
  },
  {
   "cell_type": "code",
   "execution_count": 14,
   "metadata": {},
   "outputs": [
    {
     "name": "stdout",
     "output_type": "stream",
     "text": [
      "No hay nada que ver :(\n"
     ]
    }
   ],
   "source": [
    "# Agregue las instrucciones que se ejecutarán si la expresión de prueba es true o false.\n",
    "#If, elif y else\n",
    "if velAsteroideCercano==20:\n",
    "    print(\"¡ATENCIÓN! \\n Busca un asteroride en el cielo \\n Hay un asteroide que se dirige a la tierra ahora a una velocidad de \"+ str(velAsteroideCercano))\n",
    "elif velAsteroideCercano>20:\n",
    "    print(\"¡ATENCIÓN! \\n Busca un asteroride en el cielo \\n Hay un asteroide que se dirige a la tierra ahora a una velocidad de \"+ str(velAsteroideCercano))\n",
    "else:\n",
    "    print(\"No hay nada que ver :(\")\n"
   ]
  },
  {
   "cell_type": "markdown",
   "metadata": {},
   "source": [
    "## Uso de operadores lógicos: AND - OR"
   ]
  },
  {
   "cell_type": "markdown",
   "metadata": {},
   "source": [
    "### Ejercicio 2"
   ]
  },
  {
   "cell_type": "code",
   "execution_count": 26,
   "metadata": {},
   "outputs": [],
   "source": [
    "# Agrega el código para crear nuevas variables para la velocidad y el tamaño del asteroide\n",
    "velAsteroideCercano=20\n",
    "tamanioAsteroide = 80\n"
   ]
  },
  {
   "cell_type": "code",
   "execution_count": 27,
   "metadata": {},
   "outputs": [
    {
     "name": "stdout",
     "output_type": "stream",
     "text": [
      "20 80\n"
     ]
    }
   ],
   "source": [
    "print(f\"{velAsteroideCercano} {tamanioAsteroide}\")"
   ]
  },
  {
   "cell_type": "code",
   "execution_count": 28,
   "metadata": {},
   "outputs": [
    {
     "name": "stdout",
     "output_type": "stream",
     "text": [
      "¡ADVERTENCIA! \n",
      " Un asteroide sumamente peligrosos se acerca a la tierra\n"
     ]
    }
   ],
   "source": [
    "# Para probar el código, prueba con varias velocidades y tamaños\n",
    "# Escribe varias expresiones de prueba o combinaciones de expresiones de prueba para determinar qué mensaje se debe enviar a Tierra.\n",
    "\n",
    "if velAsteroideCercano > 25 or (tamanioAsteroide>25 and tamanioAsteroide<1000):\n",
    "    print(\"¡ADVERTENCIA! \\n Un asteroide sumamente peligrosos se acerca a la tierra\")\n",
    "elif velAsteroideCercano >=20:\n",
    "    print(\"¡ATENCIÓN! \\n Mira el cielo, el rayo de luz de un asteoride se puede ver\")\n",
    "else:\n",
    "    print(\"Todo bien, nada que ver :)\")"
   ]
  }
 ],
 "metadata": {
  "interpreter": {
   "hash": "b5df1c682c66722ea795f02e3956cc1f195e725c496f4e7ec2d5e297f7916451"
  },
  "kernelspec": {
   "display_name": "Python 3.8.10 64-bit (windows store)",
   "language": "python",
   "name": "python3"
  },
  "language_info": {
   "codemirror_mode": {
    "name": "ipython",
    "version": 3
   },
   "file_extension": ".py",
   "mimetype": "text/x-python",
   "name": "python",
   "nbconvert_exporter": "python",
   "pygments_lexer": "ipython3",
   "version": "3.8.10"
  },
  "orig_nbformat": 4
 },
 "nbformat": 4,
 "nbformat_minor": 2
}
