{
 "cells": [
  {
   "cell_type": "markdown",
   "metadata": {},
   "source": [
    "# Kata 8 - Módulo 8 - Uso de funciones en Python"
   ]
  },
  {
   "cell_type": "markdown",
   "metadata": {},
   "source": [
    "### Ejercicio 1\n",
    "Trabajar con argumentos en funciones"
   ]
  },
  {
   "cell_type": "code",
   "execution_count": 4,
   "metadata": {},
   "outputs": [],
   "source": [
    "# Función para leer 3 tanques de combustible y muestre el promedio\n",
    "def informePromedioCombustible(tanque1, tanque2, tanque3):\n",
    "    avg=(tanque1+tanque2+tanque3)/3\n",
    "    return f'''Reporte de combustible\n",
    "    Tanque 1: {tanque1}\n",
    "    Tanque 2: {tanque2}\n",
    "    Tanque 3: {tanque3}\n",
    "    Promedio de combustible: {avg}'''\n"
   ]
  },
  {
   "cell_type": "code",
   "execution_count": 5,
   "metadata": {},
   "outputs": [
    {
     "name": "stdout",
     "output_type": "stream",
     "text": [
      "Reporte de combustible\n",
      "    Tanque 1: 100\n",
      "    Tanque 2: 200\n",
      "    Tanque 3: 100\n",
      "    Promedio de combustible: 133.33333333333334\n"
     ]
    }
   ],
   "source": [
    "# Llamamos a la función que genera el reporte print(funcion(tanque1, tanque2, tanque3))\n",
    "print(informePromedioCombustible(100, 200, 100))"
   ]
  },
  {
   "cell_type": "code",
   "execution_count": 11,
   "metadata": {},
   "outputs": [],
   "source": [
    "# Función promedio \n",
    "def promedioCombustible(tanque1, tanque2, tanque3):\n",
    "    return (tanque1+ tanque2+ tanque3)/3"
   ]
  },
  {
   "cell_type": "code",
   "execution_count": 13,
   "metadata": {},
   "outputs": [],
   "source": [
    "# Actualiza la función\n",
    "def informePromedioCombustible(tanque1, tanque2, tanque3):\n",
    "    avg=promedioCombustible(tanque1, tanque2, tanque3)\n",
    "    return f'''Reporte de combustible\n",
    "    Tanque 1: {tanque1}\n",
    "    Tanque 2: {tanque2}\n",
    "    Tanque 3: {tanque3}\n",
    "    Promedio de combustible: {avg}'''"
   ]
  },
  {
   "cell_type": "code",
   "execution_count": 14,
   "metadata": {},
   "outputs": [
    {
     "name": "stdout",
     "output_type": "stream",
     "text": [
      "Reporte de combustible\n",
      "    Tanque 1: 200\n",
      "    Tanque 2: 100\n",
      "    Tanque 3: 600\n",
      "    Promedio de combustible: 300.0\n"
     ]
    }
   ],
   "source": [
    "print(informePromedioCombustible(200,100,600))"
   ]
  },
  {
   "cell_type": "markdown",
   "metadata": {},
   "source": [
    "### Ejercicio 2\n",
    "Trabajo con argumentos de palabra clave"
   ]
  },
  {
   "cell_type": "code",
   "execution_count": 20,
   "metadata": {},
   "outputs": [],
   "source": [
    "# Función con un informe preciso de la misión. \n",
    "# Considera hora de prelanzamiento, tiempo de vuelo, destino, tanque externo y tanque interno\n",
    "def informeMision(horaPrelanzamiento, tiempoVuelo, destino, tanqueExterno, tanqueInterno):\n",
    "    return f'''Informe de misión\n",
    "    - Hora de prelanzamiento: {horaPrelanzamiento}\n",
    "    - Tiempo de vuelo: {tiempoVuelo}\n",
    "    - Destino: {destino}\n",
    "    - Tanque Externo: {tanqueExterno}\n",
    "    - TanqueInterno: {tanqueInterno}'''"
   ]
  },
  {
   "cell_type": "code",
   "execution_count": 19,
   "metadata": {},
   "outputs": [
    {
     "name": "stdout",
     "output_type": "stream",
     "text": [
      "Informe de misión\n",
      "    - Hora de prelanzamiento: 18\n",
      "    - Tiempo de vuelo: 55\n",
      "    - Destino: Luna\n",
      "    - Tanque Externo: 150000,\n",
      "    - TanqueInterno: 100000\n"
     ]
    }
   ],
   "source": [
    "print(informeMision(18,55,\"Luna\",150000,100000))"
   ]
  },
  {
   "cell_type": "code",
   "execution_count": 37,
   "metadata": {},
   "outputs": [],
   "source": [
    "#La función es problemática porque no se puede adaptar para minutos adicionales o tanques adicionales de \n",
    "# combustible. Hazlo más flexible permitiendo cualquier número de pasos basados en el tiempo y cualquier \n",
    "# número de tanques. En lugar de usar *args y **kwargs, aprovecha el hecho de que puedes usar cualquier nombre \n",
    "# que desees. Asegurate que la función sea más legible mediante el uso de nombres de variables que están asociados \n",
    "# con las entradas, como *minutes y **fuel_reservoirs:\n",
    "\n",
    "# Escribe tu nueva función de reporte considerando lo anterior\n",
    "def informeMision( destino, *tiempos, **tanquesReserva):\n",
    "    reporte= f'''Informe de misión\n",
    "    - Destino: {destino}\n",
    "    - Tiempo de mision: {sum(tiempos)} \n",
    "    - Total de combustible: {sum(tanquesReserva.values())}'''\n",
    "    #Msotar los valores de cada tanque\n",
    "    for tanque, combustible in tanquesReserva.items():\n",
    "        reporte += f'''\\n       Tanque {tanque} con {combustible}lt '''\n",
    "    #retornar\n",
    "    return reporte"
   ]
  },
  {
   "cell_type": "code",
   "execution_count": 38,
   "metadata": {},
   "outputs": [
    {
     "name": "stdout",
     "output_type": "stream",
     "text": [
      "Informe de misión\n",
      "    - Destino: Marte\n",
      "    - Tiempo de mision: 155 \n",
      "    - Total de combustible: 1600000\n",
      "       Tanque interno con 900000lt \n",
      "       Tanque externo con 500000lt \n",
      "       Tanque reserva con 200000lt \n"
     ]
    }
   ],
   "source": [
    "print(informeMision(\"Marte\",30,100,5,20, interno=900000, externo=500000,reserva=200000))"
   ]
  }
 ],
 "metadata": {
  "interpreter": {
   "hash": "b5df1c682c66722ea795f02e3956cc1f195e725c496f4e7ec2d5e297f7916451"
  },
  "kernelspec": {
   "display_name": "Python 3.8.10 64-bit (windows store)",
   "language": "python",
   "name": "python3"
  },
  "language_info": {
   "codemirror_mode": {
    "name": "ipython",
    "version": 3
   },
   "file_extension": ".py",
   "mimetype": "text/x-python",
   "name": "python",
   "nbconvert_exporter": "python",
   "pygments_lexer": "ipython3",
   "version": "3.8.10"
  },
  "orig_nbformat": 4
 },
 "nbformat": 4,
 "nbformat_minor": 2
}
