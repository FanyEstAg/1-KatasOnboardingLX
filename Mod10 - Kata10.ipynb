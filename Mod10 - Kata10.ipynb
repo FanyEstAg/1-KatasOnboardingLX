{
 "cells": [
  {
   "cell_type": "markdown",
   "metadata": {},
   "source": [
    "# Kata 10 - Módulo 10 - Manejo de errores"
   ]
  },
  {
   "cell_type": "markdown",
   "metadata": {},
   "source": [
    "### Intro a Tracebacks"
   ]
  },
  {
   "cell_type": "code",
   "execution_count": 2,
   "metadata": {},
   "outputs": [
    {
     "ename": "FileNotFoundError",
     "evalue": "[Errno 2] No such file or directory: 'D:/Archivos/LAUNCH X/OnBoarding/mars.jpg'",
     "output_type": "error",
     "traceback": [
      "\u001b[1;31m---------------------------------------------------------------------------\u001b[0m",
      "\u001b[1;31mFileNotFoundError\u001b[0m                         Traceback (most recent call last)",
      "\u001b[1;32md:\\Archivos\\LAUNCH X\\OnBoarding\\Mod10 - Kata10.ipynb Cell 2'\u001b[0m in \u001b[0;36m<module>\u001b[1;34m\u001b[0m\n\u001b[1;32m----> <a href='vscode-notebook-cell:/d%3A/Archivos/LAUNCH%20X/OnBoarding/Mod10%20-%20Kata10.ipynb#ch0000000?line=0'>1</a>\u001b[0m \u001b[39mopen\u001b[39;49m(\u001b[39m\"\u001b[39;49m\u001b[39mD:/Archivos/LAUNCH X/OnBoarding/mars.jpg\u001b[39;49m\u001b[39m\"\u001b[39;49m)\n",
      "\u001b[1;31mFileNotFoundError\u001b[0m: [Errno 2] No such file or directory: 'D:/Archivos/LAUNCH X/OnBoarding/mars.jpg'"
     ]
    }
   ],
   "source": [
    "open(\"D:/Archivos/LAUNCH X/OnBoarding/mars.jpg\")"
   ]
  },
  {
   "cell_type": "markdown",
   "metadata": {},
   "source": [
    "Prueba de open.py con python \n",
    "\n",
    "![Ejercicio Open.py](\\Images-Kata10\\OpenPy.png \"Ejercicio Traceback Open.py\")\n"
   ]
  },
  {
   "cell_type": "markdown",
   "metadata": {},
   "source": [
    "### Controlando las excepciones"
   ]
  },
  {
   "cell_type": "markdown",
   "metadata": {},
   "source": [
    "##### Try y Except de los bloques"
   ]
  },
  {
   "cell_type": "markdown",
   "metadata": {},
   "source": [
    "Los archivos de configuración pueden tener todo tipo de problemas, por lo que es fundamental notificarlos con precisión cuando se presenten. Sabemos que, si no existe un archivo o directorio, se genera FileNotFoundError. Si queremos controlar esa excepción, podemos hacerlo con un bloque try y except:\n",
    "\n",
    "![Ejercicio Try - Except.py](\\Images-Kata10\\TryExcept.png \"Ejercicio Try-Except para controlar una excepción\")\n",
    "\n",
    "_Después de la palabra clave try, agregamos código que tenga la posibilidad de producir una excepción. A continuación, agregamos la palabra clave except junto con la posible excepción, seguida de cualquier código que deba ejecutarse cuando se produce esa condición._"
   ]
  },
  {
   "cell_type": "markdown",
   "metadata": {},
   "source": [
    "A continuación, se creo un directorio denominado config.txt, al cual se intentó llamar al archivo config.py para ver un error nuevo que debería ser similar al siguiente:\n",
    "\n",
    "![Ejemplo de error](\\Images-Kata10\\IsADirectoryError.jpg \"Error 'IsADirectory\")\n",
    "\n",
    "Sin embargo el error arrojado fue dirferente:\n",
    "\n",
    "![PermissionError](\\Images-Kata10\\PermissionError.jpg \"Diferencia de error 'IsADirectory a ''PermissionError\")\n",
    "\n",
    "Por lo que se ajustó el tipo de error a los sigueintes ejercicios"
   ]
  },
  {
   "cell_type": "markdown",
   "metadata": {},
   "source": [
    "Una manera poco útil de controlar un error de que se tarata de abrir una archivo  que en realidad e sun directorio (y de acualqueir error) sería detectar todas las excepciones posibles para evitar un traceback. Para comprender por qué detectar todas las excepciones es problemático, probaremos actualizando la función main():\n",
    "\n",
    "![Uso de Except para manejar traceback](\\Images-Kata10\\AllExcepts.png \"Except para manejar traceback\")"
   ]
  },
  {
   "cell_type": "markdown",
   "metadata": {},
   "source": [
    "Se corrigió el fragmento de código revertiendos la detección de FileNotFoundError y agregando otro bloque except para detectar PermissionError:\n",
    "\n",
    "![Anexo de ambas excepciones](\\Images-Kata10\\TwoExcepts.png \"Cpnfiguración de la excepción, agregando la no existencia y permisos denegados\")\n"
   ]
  },
  {
   "cell_type": "markdown",
   "metadata": {},
   "source": [
    "Cuando los errores son de una naturaleza similar y no es necesario controlarlos individualmente, puedes agrupar las excepciones como una usando paréntesis en la línea except. Por ejemplo, si el sistema de navegación está bajo cargas pesadas y el sistema de archivos está demasiado ocupado, tiene sentido detectar BlockingIOError y TimeOutError juntos:\n",
    "\n",
    "~~~ python\n",
    "def main():\n",
    "    try:\n",
    "        configuration = open('config.txt')\n",
    "    except FileNotFoundError:\n",
    "        print(\"Couldn't find the config.txt file!\")\n",
    "    except PermissionError:\n",
    "        print(\"Permission Denied, couldn't read it\")\n",
    "    except (BlockingIOError, TimeoutError):\n",
    "        print(\"Filesystem under heavy load, can't complete reading configuration file\")\n",
    "\n",
    "if __name__ == '__main__':\n",
    "    main()\n",
    "~~~\n",
    "\n",
    "Aunque puedes agrupar excepciones, solo debes hacerlo cuando no sea necesario controlarlas individualmente. Evita agrupar muchas excepciones para proporcionar un mensaje de error generalizado."
   ]
  },
  {
   "cell_type": "markdown",
   "metadata": {},
   "source": [
    "En caso de necesitar acceder al error asociado a la excepción, se debe actualizar la línea except para incluir la palabra clave as. Esta técnica es práctica si una excepción es demasiado genérica y el mensaje de error puede ser útil:\n",
    "\n",
    "![Añadir el error al mensaje](\\Images-Kata10\\AddError.png \"Añadir el error de la consola al mensaje del Except\")\n",
    "\n",
    "**as err** significa que err se convierte en una variable con el objeto de excepción como valor. Después, usa este valor para imprimir el mensaje de error asociado a la excepción. \n",
    "\n",
    "Otra razón para usar esta técnica es acceder directamente a los atributos del error. Por ejemplo, si detecta una excepción _OSError_ más genérica, que es la excepción primaria de _FilenotFoundError_ y _PermissionError_, podemos diferenciarlas mediante el atributo **.errno**:\n",
    "\n",
    "![Uso de .errno](\\Images-Kata10\\errno.png \"Uso de .errno\")\n",
    "\n",
    "En este caso tebnía una carpeta creada como config.txt por lo que no puede leerlo ya rroja este error"
   ]
  },
  {
   "cell_type": "markdown",
   "metadata": {},
   "source": [
    "### Generación de excepciones"
   ]
  }
 ],
 "metadata": {
  "interpreter": {
   "hash": "b5df1c682c66722ea795f02e3956cc1f195e725c496f4e7ec2d5e297f7916451"
  },
  "kernelspec": {
   "display_name": "Python 3.8.10 64-bit (windows store)",
   "language": "python",
   "name": "python3"
  },
  "language_info": {
   "codemirror_mode": {
    "name": "ipython",
    "version": 3
   },
   "file_extension": ".py",
   "mimetype": "text/x-python",
   "name": "python",
   "nbconvert_exporter": "python",
   "pygments_lexer": "ipython3",
   "version": "3.8.10"
  },
  "orig_nbformat": 4
 },
 "nbformat": 4,
 "nbformat_minor": 2
}
