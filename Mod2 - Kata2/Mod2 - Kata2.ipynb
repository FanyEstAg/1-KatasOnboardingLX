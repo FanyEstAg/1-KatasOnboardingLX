{
 "cells": [
  {
   "cell_type": "markdown",
   "metadata": {},
   "source": [
    "# Kata 2 - Moódulo 2 - Crear y administrar proyectos"
   ]
  },
  {
   "cell_type": "markdown",
   "metadata": {},
   "source": [
    "### Ejercicio 1\n",
    "Crear un paquete"
   ]
  },
  {
   "cell_type": "markdown",
   "metadata": {},
   "source": [
    "#### Crear un entorno virtual\n",
    "\n",
    "Creación de un entorno virtual en cmd\n",
    "\n",
    "![Virtual Enviroment](createEnv.jpg \"Creación de entorno virtual\")\n",
    "\n",
    "Activaicón del entorno virtual antes creado\n",
    "\n",
    "![Activate Enviroment](activateEnv.jpg \"Activación del entorno virtual\")"
   ]
  },
  {
   "cell_type": "markdown",
   "metadata": {},
   "source": [
    "#### Instalar una biblioteca\n",
    "\n",
    "1. Verificamos que bibliotecas hay con **pip freeze**\n",
    "2. Como este ambiente está vacío no obtenemso respuesta, asi que instaalmos una usando **pip install python-dateutil**\n",
    "3. Verificamos nuevamente con freeze\n",
    "4. Vualá aparece la recien instalada biblioteca\n",
    "\n",
    "![Biblioteca](addLibrary.jpg \"Instalación de una biblioteca en el ambiente\")"
   ]
  },
  {
   "cell_type": "markdown",
   "metadata": {},
   "source": [
    "#### Desactivar un entorno virtual\n",
    "\n",
    "Para salir del ambiente se debe desactivar usando **deactivate**\n",
    "\n",
    "![Desactivate Enviroment](desactivateEnv.jpg \"Desactivación del entorno virtual para salir\")"
   ]
  }
 ],
 "metadata": {
  "language_info": {
   "name": "python"
  },
  "orig_nbformat": 4
 },
 "nbformat": 4,
 "nbformat_minor": 2
}
